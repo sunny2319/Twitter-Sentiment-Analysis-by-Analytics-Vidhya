{
  "nbformat": 4,
  "nbformat_minor": 0,
  "metadata": {
    "colab": {
      "name": "twitter_sentimental_analysis using svm.ipynb",
      "provenance": []
    },
    "kernelspec": {
      "name": "python3",
      "display_name": "Python 3"
    }
  },
  "cells": [
    {
      "cell_type": "code",
      "metadata": {
        "id": "9ZbFZcGIJ7oT",
        "colab_type": "code",
        "colab": {}
      },
      "source": [
        "import re\n",
        "import pandas as pd\n",
        "import numpy as np\n",
        "import nltk\n",
        "import string\n",
        "import warnings"
      ],
      "execution_count": 0,
      "outputs": []
    },
    {
      "cell_type": "markdown",
      "metadata": {
        "id": "axVtRTsMPVlB",
        "colab_type": "text"
      },
      "source": [
        "***Importing dataSet***"
      ]
    },
    {
      "cell_type": "code",
      "metadata": {
        "id": "nEfd0qLILtEh",
        "colab_type": "code",
        "colab": {}
      },
      "source": [
        "dataset=pd.read_csv('train.csv')\n",
        "testdata=pd.read_csv('test.csv')"
      ],
      "execution_count": 0,
      "outputs": []
    },
    {
      "cell_type": "markdown",
      "metadata": {
        "id": "EZXMS8U8PCp6",
        "colab_type": "text"
      },
      "source": [
        "***Cleaning Tweets***"
      ]
    },
    {
      "cell_type": "code",
      "metadata": {
        "id": "F63-eSfSNG47",
        "colab_type": "code",
        "colab": {}
      },
      "source": [
        "def cleanhtml(sentence):\n",
        "    cleanr=re.compile('<.*?>')\n",
        "    cleantext=re.sub(cleanr,' ',sentence)\n",
        "    return cleantext"
      ],
      "execution_count": 0,
      "outputs": []
    },
    {
      "cell_type": "code",
      "metadata": {
        "id": "5CPxWCyqUP9l",
        "colab_type": "code",
        "colab": {}
      },
      "source": [
        "def cleanpunc(sentence):\n",
        "    cleaned=re.sub(r'[?!\\\\\\'\"#]',r' ',sentence)\n",
        "    cleaned=re.sub(r'[,)(\\/]',r' ',cleaned)\n",
        "    return cleaned"
      ],
      "execution_count": 0,
      "outputs": []
    },
    {
      "cell_type": "code",
      "metadata": {
        "id": "vekXxJ_PUS9E",
        "colab_type": "code",
        "colab": {}
      },
      "source": [
        "def r_pattern(txt):\n",
        "  t=re.findall(\"@[\\w]*\",txt)\n",
        "  for i in t:\n",
        "    txt=re.sub(i,'',txt)\n",
        "  return txt"
      ],
      "execution_count": 0,
      "outputs": []
    },
    {
      "cell_type": "code",
      "metadata": {
        "id": "VOXAH1G6fjbD",
        "colab_type": "code",
        "outputId": "1a2a3730-5143-408c-c10c-fd65cba5fc27",
        "colab": {
          "base_uri": "https://localhost:8080/",
          "height": 153
        }
      },
      "source": [
        "tdata=dataset.append(testdata,ignore_index=True)"
      ],
      "execution_count": 249,
      "outputs": [
        {
          "output_type": "stream",
          "text": [
            "/usr/local/lib/python3.6/dist-packages/pandas/core/frame.py:6692: FutureWarning: Sorting because non-concatenation axis is not aligned. A future version\n",
            "of pandas will change to not sort by default.\n",
            "\n",
            "To accept the future behavior, pass 'sort=False'.\n",
            "\n",
            "To retain the current behavior and silence the warning, pass 'sort=True'.\n",
            "\n",
            "  sort=sort)\n"
          ],
          "name": "stderr"
        }
      ]
    },
    {
      "cell_type": "code",
      "metadata": {
        "id": "KD2m1qcDf8WH",
        "colab_type": "code",
        "colab": {}
      },
      "source": [
        "tdata['tweet']=np.vectorize(r_pattern)(tdata['tweet'])"
      ],
      "execution_count": 0,
      "outputs": []
    },
    {
      "cell_type": "code",
      "metadata": {
        "id": "MHWLCGQug8WS",
        "colab_type": "code",
        "outputId": "afbba642-fb86-42bd-93c9-440d30411468",
        "colab": {
          "base_uri": "https://localhost:8080/",
          "height": 204
        }
      },
      "source": [
        "tdata['tweet']=tdata['tweet'].replace(\"[^a-zA-Z]#\",\" \")\n",
        "tdata.head()"
      ],
      "execution_count": 251,
      "outputs": [
        {
          "output_type": "execute_result",
          "data": {
            "text/html": [
              "<div>\n",
              "<style scoped>\n",
              "    .dataframe tbody tr th:only-of-type {\n",
              "        vertical-align: middle;\n",
              "    }\n",
              "\n",
              "    .dataframe tbody tr th {\n",
              "        vertical-align: top;\n",
              "    }\n",
              "\n",
              "    .dataframe thead th {\n",
              "        text-align: right;\n",
              "    }\n",
              "</style>\n",
              "<table border=\"1\" class=\"dataframe\">\n",
              "  <thead>\n",
              "    <tr style=\"text-align: right;\">\n",
              "      <th></th>\n",
              "      <th>id</th>\n",
              "      <th>label</th>\n",
              "      <th>tweet</th>\n",
              "    </tr>\n",
              "  </thead>\n",
              "  <tbody>\n",
              "    <tr>\n",
              "      <th>0</th>\n",
              "      <td>1</td>\n",
              "      <td>0.0</td>\n",
              "      <td>when a father is dysfunctional and is so sel...</td>\n",
              "    </tr>\n",
              "    <tr>\n",
              "      <th>1</th>\n",
              "      <td>2</td>\n",
              "      <td>0.0</td>\n",
              "      <td>thanks for #lyft credit i can't use cause th...</td>\n",
              "    </tr>\n",
              "    <tr>\n",
              "      <th>2</th>\n",
              "      <td>3</td>\n",
              "      <td>0.0</td>\n",
              "      <td>bihday your majesty</td>\n",
              "    </tr>\n",
              "    <tr>\n",
              "      <th>3</th>\n",
              "      <td>4</td>\n",
              "      <td>0.0</td>\n",
              "      <td>#model   i love u take with u all the time in ...</td>\n",
              "    </tr>\n",
              "    <tr>\n",
              "      <th>4</th>\n",
              "      <td>5</td>\n",
              "      <td>0.0</td>\n",
              "      <td>factsguide: society now    #motivation</td>\n",
              "    </tr>\n",
              "  </tbody>\n",
              "</table>\n",
              "</div>"
            ],
            "text/plain": [
              "   id  label                                              tweet\n",
              "0   1    0.0    when a father is dysfunctional and is so sel...\n",
              "1   2    0.0    thanks for #lyft credit i can't use cause th...\n",
              "2   3    0.0                                bihday your majesty\n",
              "3   4    0.0  #model   i love u take with u all the time in ...\n",
              "4   5    0.0             factsguide: society now    #motivation"
            ]
          },
          "metadata": {
            "tags": []
          },
          "execution_count": 251
        }
      ]
    },
    {
      "cell_type": "markdown",
      "metadata": {
        "id": "-Ua41KCGkAc8",
        "colab_type": "text"
      },
      "source": [
        "Remove short words and stop word"
      ]
    },
    {
      "cell_type": "code",
      "metadata": {
        "id": "bWyUeGmpgLWw",
        "colab_type": "code",
        "colab": {}
      },
      "source": [
        "tdata['tweet']=tdata['tweet'].apply(lambda x: ' '.join([w for w in x.split() if len(w)>3]))"
      ],
      "execution_count": 0,
      "outputs": []
    },
    {
      "cell_type": "code",
      "metadata": {
        "id": "NZ2KRrz6nWEE",
        "colab_type": "code",
        "colab": {}
      },
      "source": [
        "token=tdata['tweet'].apply(lambda x: x.split())"
      ],
      "execution_count": 0,
      "outputs": []
    },
    {
      "cell_type": "code",
      "metadata": {
        "id": "_e2p1hw_newB",
        "colab_type": "code",
        "colab": {}
      },
      "source": [
        "from nltk.stem.porter import *\n",
        "stemmer=PorterStemmer()"
      ],
      "execution_count": 0,
      "outputs": []
    },
    {
      "cell_type": "code",
      "metadata": {
        "id": "-lrKWpf6m_uG",
        "colab_type": "code",
        "colab": {}
      },
      "source": [
        "token=tdata['tweet'].apply(lambda x: [stemmer.stem(i) for i in x])"
      ],
      "execution_count": 0,
      "outputs": []
    },
    {
      "cell_type": "code",
      "metadata": {
        "id": "wowiE9STmOSz",
        "colab_type": "code",
        "colab": {}
      },
      "source": [
        "for i in range(len(token)):\n",
        "  token[i]=''.join(token[i])"
      ],
      "execution_count": 0,
      "outputs": []
    },
    {
      "cell_type": "code",
      "metadata": {
        "id": "meWNEocYoDuB",
        "colab_type": "code",
        "outputId": "0a2a4b95-6329-457b-8ed5-7f26cdad1dd1",
        "colab": {
          "base_uri": "https://localhost:8080/",
          "height": 204
        }
      },
      "source": [
        "tdata['tweet']=token\n",
        "tdata.head()"
      ],
      "execution_count": 257,
      "outputs": [
        {
          "output_type": "execute_result",
          "data": {
            "text/html": [
              "<div>\n",
              "<style scoped>\n",
              "    .dataframe tbody tr th:only-of-type {\n",
              "        vertical-align: middle;\n",
              "    }\n",
              "\n",
              "    .dataframe tbody tr th {\n",
              "        vertical-align: top;\n",
              "    }\n",
              "\n",
              "    .dataframe thead th {\n",
              "        text-align: right;\n",
              "    }\n",
              "</style>\n",
              "<table border=\"1\" class=\"dataframe\">\n",
              "  <thead>\n",
              "    <tr style=\"text-align: right;\">\n",
              "      <th></th>\n",
              "      <th>id</th>\n",
              "      <th>label</th>\n",
              "      <th>tweet</th>\n",
              "    </tr>\n",
              "  </thead>\n",
              "  <tbody>\n",
              "    <tr>\n",
              "      <th>0</th>\n",
              "      <td>1</td>\n",
              "      <td>0.0</td>\n",
              "      <td>when father dysfunctional selfish drags kids i...</td>\n",
              "    </tr>\n",
              "    <tr>\n",
              "      <th>1</th>\n",
              "      <td>2</td>\n",
              "      <td>0.0</td>\n",
              "      <td>thanks #lyft credit can't cause they don't off...</td>\n",
              "    </tr>\n",
              "    <tr>\n",
              "      <th>2</th>\n",
              "      <td>3</td>\n",
              "      <td>0.0</td>\n",
              "      <td>bihday your majesty</td>\n",
              "    </tr>\n",
              "    <tr>\n",
              "      <th>3</th>\n",
              "      <td>4</td>\n",
              "      <td>0.0</td>\n",
              "      <td>#model love take with time urð±!!! ððð...</td>\n",
              "    </tr>\n",
              "    <tr>\n",
              "      <th>4</th>\n",
              "      <td>5</td>\n",
              "      <td>0.0</td>\n",
              "      <td>factsguide: society #motivation</td>\n",
              "    </tr>\n",
              "  </tbody>\n",
              "</table>\n",
              "</div>"
            ],
            "text/plain": [
              "   id  label                                              tweet\n",
              "0   1    0.0  when father dysfunctional selfish drags kids i...\n",
              "1   2    0.0  thanks #lyft credit can't cause they don't off...\n",
              "2   3    0.0                                bihday your majesty\n",
              "3   4    0.0  #model love take with time urð±!!! ððð...\n",
              "4   5    0.0                    factsguide: society #motivation"
            ]
          },
          "metadata": {
            "tags": []
          },
          "execution_count": 257
        }
      ]
    },
    {
      "cell_type": "code",
      "metadata": {
        "id": "ygEjDGkGoMBY",
        "colab_type": "code",
        "colab": {}
      },
      "source": [
        "from sklearn.feature_extraction.text import CountVectorizer\n",
        "bow_v=CountVectorizer(max_df=0.90,min_df=2,max_features=1000,stop_words='english')"
      ],
      "execution_count": 0,
      "outputs": []
    },
    {
      "cell_type": "code",
      "metadata": {
        "id": "y3tgXBM_oqJc",
        "colab_type": "code",
        "colab": {}
      },
      "source": [
        "bow=bow_v.fit_transform(tdata['tweet'])"
      ],
      "execution_count": 0,
      "outputs": []
    },
    {
      "cell_type": "code",
      "metadata": {
        "id": "pZqaCtM0stTM",
        "colab_type": "code",
        "colab": {}
      },
      "source": [
        "from sklearn.model_selection import train_test_split\n",
        "from sklearn.metrics import f1_score"
      ],
      "execution_count": 0,
      "outputs": []
    },
    {
      "cell_type": "code",
      "metadata": {
        "id": "VAudObUSy9Rp",
        "colab_type": "code",
        "colab": {}
      },
      "source": [
        "train_b=bow[:31962,:]\n",
        "test_b=bow[31962:,:]"
      ],
      "execution_count": 0,
      "outputs": []
    },
    {
      "cell_type": "code",
      "metadata": {
        "id": "8Yxt3-c4zH6A",
        "colab_type": "code",
        "colab": {}
      },
      "source": [
        "xtrain_b,xvalid_b,ytrain,yvalid = train_test_split(train_b,dataset['label'],random_state=42,test_size=0.3)"
      ],
      "execution_count": 0,
      "outputs": []
    },
    {
      "cell_type": "code",
      "metadata": {
        "id": "AZUt-8Ztzins",
        "colab_type": "code",
        "colab": {}
      },
      "source": [
        "from sklearn.svm import SVC"
      ],
      "execution_count": 0,
      "outputs": []
    },
    {
      "cell_type": "code",
      "metadata": {
        "id": "w09iQkoZzxdX",
        "colab_type": "code",
        "colab": {}
      },
      "source": [
        "svm=SVC()\n",
        "svm = SVC(kernel = 'rbf', random_state = 0, gamma = 0.14, C =11)"
      ],
      "execution_count": 0,
      "outputs": []
    },
    {
      "cell_type": "code",
      "metadata": {
        "id": "2zuv6QLvz8Tj",
        "colab_type": "code",
        "outputId": "18f5f3ff-3be0-4639-e73f-7b152514abd6",
        "colab": {
          "base_uri": "https://localhost:8080/",
          "height": 85
        }
      },
      "source": [
        "svm.fit(xtrain_b,ytrain)"
      ],
      "execution_count": 265,
      "outputs": [
        {
          "output_type": "execute_result",
          "data": {
            "text/plain": [
              "SVC(C=11, cache_size=200, class_weight=None, coef0=0.0,\n",
              "    decision_function_shape='ovr', degree=3, gamma=0.14, kernel='rbf',\n",
              "    max_iter=-1, probability=False, random_state=0, shrinking=True, tol=0.001,\n",
              "    verbose=False)"
            ]
          },
          "metadata": {
            "tags": []
          },
          "execution_count": 265
        }
      ]
    },
    {
      "cell_type": "code",
      "metadata": {
        "id": "4Btl5Ql40IIX",
        "colab_type": "code",
        "outputId": "21c38e24-4f38-4a85-c50f-2c2e5d373644",
        "colab": {
          "base_uri": "https://localhost:8080/",
          "height": 34
        }
      },
      "source": [
        "y_pred=svm.predict(xvalid_b)\n",
        "prediction_int=y_pred.astype(np.int)\n",
        "f1_score(yvalid,prediction_int)"
      ],
      "execution_count": 266,
      "outputs": [
        {
          "output_type": "execute_result",
          "data": {
            "text/plain": [
              "0.5340802987861811"
            ]
          },
          "metadata": {
            "tags": []
          },
          "execution_count": 266
        }
      ]
    },
    {
      "cell_type": "markdown",
      "metadata": {
        "id": "ZCjI52AA1ghr",
        "colab_type": "text"
      },
      "source": [
        "Prediction on test set"
      ]
    },
    {
      "cell_type": "code",
      "metadata": {
        "id": "BLAjcTnh0iss",
        "colab_type": "code",
        "colab": {}
      },
      "source": [
        "test_pred=svm.predict(test_b)\n",
        "test_pred_int=test_pred.astype(np.int)\n",
        "testdata['label']=test_pred_int\n",
        "submission=testdata[['id','label']]\n",
        "submission.to_csv('svm_submission.csv',index=False)"
      ],
      "execution_count": 0,
      "outputs": []
    }
  ]
}